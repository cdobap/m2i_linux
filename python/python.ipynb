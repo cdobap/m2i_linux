{
 "cells": [
  {
   "cell_type": "markdown",
   "id": "44519cb4-c936-4d6d-a422-440f589eb7d5",
   "metadata": {},
   "source": [
    "list croissante ou pas"
   ]
  },
  {
   "cell_type": "code",
   "execution_count": null,
   "id": "003a39be-01a6-462f-a6b2-9aa382dd740e",
   "metadata": {},
   "outputs": [],
   "source": [
    "li=[1,2,6,4,5,3]\n",
    "\n",
    "pas_croissant=\"\"\n",
    "for i in range(len(li)-1):\n",
    "    if li[i] > li[i+1]:\n",
    "        pas_croissant=\"pas croissant\"\n",
    "        \n",
    "print(pas_croissant if len(pas_croissant) > 0 else \"croissant\") "
   ]
  },
  {
   "cell_type": "markdown",
   "id": "7add1121-6d0b-4fb1-84dd-687eda355e7b",
   "metadata": {},
   "source": [
    "compter les voyelles"
   ]
  },
  {
   "cell_type": "code",
   "execution_count": null,
   "id": "f30057cb-4e41-4b0c-8241-04007a1e594d",
   "metadata": {},
   "outputs": [],
   "source": [
    "li=[\"a\",\"e\",\"i\",\"o\",\"u\",\"y\"]\n",
    "phrase=\"il fait beau\"\n",
    "c=0\n",
    "for lettre in phrase:\n",
    "    if lettre in li:\n",
    "        c+=1\n",
    "print(c)"
   ]
  },
  {
   "cell_type": "markdown",
   "id": "c272384e-4e5d-4082-8208-09ae1c909022",
   "metadata": {},
   "source": [
    "fibo avec list"
   ]
  },
  {
   "cell_type": "code",
   "execution_count": null,
   "id": "9d9e946f-e846-4316-9dbb-5abd860d41f5",
   "metadata": {},
   "outputs": [],
   "source": [
    "li=[0,1]\n",
    "\n",
    "len_fibo=int(input(\"len fibo: \"))\n",
    "\n",
    "for i in range(2, len_fibo):\n",
    "    j=li[i-1]+li[i-2]\n",
    "    li.append(j)\n",
    "    \n",
    "print(li)\n",
    "\n",
    "    "
   ]
  },
  {
   "cell_type": "markdown",
   "id": "25354b42-3f47-4a70-af06-61eed3e3bdb0",
   "metadata": {},
   "source": [
    "triangle isocele  base odd  base 5  ##### ### #"
   ]
  },
  {
   "cell_type": "code",
   "execution_count": null,
   "id": "951c4a36-0d08-4802-a1d3-7988b0176735",
   "metadata": {},
   "outputs": [],
   "source": [
    "base=int(input(\"triangle base: \"))\n",
    "li=[]\n",
    "for i in range(1, base+1):\n",
    "    if i%2 != 0:\n",
    "        li.append(i)\n",
    "\n",
    "k=0\n",
    "for j in range(len(li), 0, -1):\n",
    "    print(\" \"*j + \"#\"*li[k])\n",
    "    k+=1 \n"
   ]
  },
  {
   "cell_type": "markdown",
   "id": "0e9a58f0-8b6b-488b-8540-08145dcf3d16",
   "metadata": {},
   "source": [
    "triangle rectangle base + hauteur "
   ]
  },
  {
   "cell_type": "code",
   "execution_count": 6,
   "id": "61fbca22-04cf-4cb4-9cc6-4fb971d38a34",
   "metadata": {},
   "outputs": [
    {
     "name": "stdout",
     "output_type": "stream",
     "text": [
      "#\n",
      "#\n",
      "#\n",
      "#\n",
      "#\n",
      "#\n",
      "##\n",
      "##\n",
      "##\n",
      "##\n",
      "##\n",
      "##\n",
      "###\n",
      "###\n",
      "###\n",
      "###\n",
      "###\n",
      "###\n",
      "####\n",
      "####\n",
      "####\n",
      "####\n",
      "####\n",
      "####\n",
      "#####\n",
      "#####\n",
      "#####\n",
      "#####\n",
      "#####\n",
      "#####\n",
      "######\n",
      "######\n",
      "######\n",
      "######\n",
      "######\n",
      "######\n",
      "#######\n",
      "#######\n",
      "#######\n",
      "#######\n",
      "#######\n",
      "#######\n",
      "########\n",
      "########\n",
      "########\n",
      "########\n",
      "########\n",
      "########\n",
      "#########\n",
      "#########\n",
      "#########\n",
      "#########\n",
      "#########\n",
      "#########\n",
      "##########\n",
      "##########\n",
      "##########\n",
      "##########\n",
      "##########\n",
      "##########\n",
      "###########\n",
      "###########\n",
      "###########\n",
      "###########\n",
      "###########\n",
      "############\n",
      "############\n",
      "############\n",
      "############\n",
      "############\n",
      "#############\n",
      "#############\n",
      "#############\n",
      "#############\n",
      "#############\n",
      "##############\n",
      "##############\n",
      "##############\n",
      "##############\n",
      "##############\n",
      "###############\n",
      "###############\n",
      "###############\n",
      "###############\n",
      "###############\n",
      "################\n",
      "################\n",
      "################\n",
      "################\n",
      "################\n",
      "#################\n",
      "#################\n",
      "#################\n",
      "#################\n",
      "#################\n",
      "##################\n",
      "##################\n",
      "##################\n",
      "##################\n",
      "##################\n",
      "###################\n",
      "###################\n",
      "###################\n",
      "###################\n",
      "###################\n",
      "####################\n",
      "####################\n",
      "####################\n",
      "####################\n",
      "####################\n"
     ]
    }
   ],
   "source": [
    "base=20\n",
    "hauteur=110\n",
    "li=[]\n",
    "\n",
    "for i in range(1, base+1):\n",
    "    li.append(i) \n",
    "      \n",
    "if hauteur > base:\n",
    "    diff = hauteur-base\n",
    "    n = base//diff\n",
    "    if n == 0:\n",
    "        n=1    \n",
    "\n",
    "    while len(li) < hauteur:\n",
    "        for i in li[::n]:\n",
    "            if len(li) < hauteur:\n",
    "                li.append(i)\n",
    "    \n",
    "li=sorted(li)\n",
    "\n",
    "for i in range(hauteur):\n",
    "    print(\"#\"*li[i])   \n",
    "    \n"
   ]
  },
  {
   "cell_type": "code",
   "execution_count": null,
   "id": "81755b18-2278-48a0-ac23-1a9f4b6b6f65",
   "metadata": {},
   "outputs": [],
   "source": []
  }
 ],
 "metadata": {
  "kernelspec": {
   "display_name": "Python 3 (ipykernel)",
   "language": "python",
   "name": "python3"
  },
  "language_info": {
   "codemirror_mode": {
    "name": "ipython",
    "version": 3
   },
   "file_extension": ".py",
   "mimetype": "text/x-python",
   "name": "python",
   "nbconvert_exporter": "python",
   "pygments_lexer": "ipython3",
   "version": "3.10.4"
  }
 },
 "nbformat": 4,
 "nbformat_minor": 5
}
